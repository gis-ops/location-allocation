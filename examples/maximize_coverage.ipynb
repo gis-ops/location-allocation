{
 "cells": [
  {
   "cell_type": "code",
   "execution_count": 1,
   "id": "6c3935ef",
   "metadata": {},
   "outputs": [],
   "source": [
    "import numpy as np\n",
    "from scipy.spatial import distance_matrix\n",
    "from sklearn.datasets import make_moons\n",
    "\n",
    "from location_allocation import MaximizeCoverage\n",
    "import utils"
   ]
  },
  {
   "cell_type": "markdown",
   "id": "d313b1d2",
   "metadata": {},
   "source": [
    "### Generate Dummy Data & Optimize"
   ]
  },
  {
   "cell_type": "code",
   "execution_count": 2,
   "id": "60ee82e3",
   "metadata": {},
   "outputs": [
    {
     "name": "stdout",
     "output_type": "stream",
     "text": [
      "Welcome to the CBC MILP Solver \n",
      "Version: Trunk\n",
      "Build Date: Nov 15 2020 \n",
      "\n",
      "Starting solution of the Linear programming relaxation problem using Primal Simplex\n",
      "\n",
      "Coin0506I Presolve 201 (-100) rows, 242 (-108) columns and 537 (-108) elements\n",
      "Clp1000I sum of infeasibilities 0 - average 0, 205 fixed columns\n",
      "Coin0506I Presolve 0 (-201) rows, 0 (-242) columns and 0 (-537) elements\n",
      "Clp0000I Optimal - objective value -0\n",
      "Clp0000I Optimal - objective value -0\n",
      "Coin0511I After Postsolve, objective 0, infeasibilities - dual 0 (0), primal 0 (0)\n",
      "Clp0014I Perturbing problem by 0.001% of 1.0164613 - largest nonzero change 9.8276609e-05 ( 0.0098276609%) - largest zero change 0\n",
      "Clp0000I Optimal - objective value 67\n",
      "Clp0000I Optimal - objective value 67\n",
      "Clp0000I Optimal - objective value 67\n",
      "Coin0511I After Postsolve, objective 67, infeasibilities - dual 0 (0), primal 0 (0)\n",
      "Clp0032I Optimal objective 67 - 0 iterations time 0.012, Presolve 0.00, Idiot 0.01\n",
      "\n",
      "Starting MIP optimization\n"
     ]
    },
    {
     "data": {
      "text/plain": [
       "<location_allocation._maximize_coverage.MaximizeCoverage at 0x110470be0>"
      ]
     },
     "execution_count": 2,
     "metadata": {},
     "output_type": "execute_result"
    }
   ],
   "source": [
    "points, _ = make_moons(300, noise=0.15)\n",
    "facilities = utils.generate_candidate_facilities(points, 50)\n",
    "cost_matrix = distance_matrix(points, facilities)\n",
    "\n",
    "mclp = MaximizeCoverage(\n",
    "    points,\n",
    "    facilities,\n",
    "    cost_matrix,\n",
    "    cost_cutoff=0.2,\n",
    "    facilities_to_site=5,\n",
    ")\n",
    "mclp.optimize()"
   ]
  },
  {
   "cell_type": "markdown",
   "id": "6fbf682f",
   "metadata": {},
   "source": [
    "### Plot Result"
   ]
  },
  {
   "cell_type": "code",
   "execution_count": 3,
   "id": "6621f297",
   "metadata": {},
   "outputs": [
    {
     "data": {
      "image/png": "[encoded data removed]",
      "text/plain": [
       "<Figure size 720x360 with 1 Axes>"
      ]
     },
     "metadata": {},
     "output_type": "display_data"
    }
   ],
   "source": [
    "# removing sites from the distance matrix which are not part of the solution\n",
    "cost_matrix = np.delete(\n",
    "    cost_matrix,\n",
    "    [x for x in range(50) if x not in mclp.result.solution[\"opt_facilities_indexes\"]],\n",
    "    1,\n",
    ")\n",
    "\n",
    "point_allocations = {}\n",
    "for s_idx, x in enumerate(cost_matrix.T):\n",
    "    point_allocations[mclp.result.solution[\"opt_facilities_indexes\"][s_idx]] = []\n",
    "    for idx, y in enumerate(x):\n",
    "        if y == 1.0:\n",
    "            point_allocations[mclp.result.solution[\"opt_facilities_indexes\"][s_idx]].append(idx)\n",
    "\n",
    "utils.plot_result(points, point_allocations, mclp.result.solution[\"opt_facilities\"], np.array(facilities))"
   ]
  },
  {
   "cell_type": "code",
   "execution_count": null,
   "id": "108ebc9a",
   "metadata": {},
   "outputs": [],
   "source": []
  }
 ],
 "metadata": {
  "kernelspec": {
   "display_name": "location-allocation-ss8QIqgb-py3.8",
   "language": "python",
   "name": "location-allocation-ss8qiqgb-py3.8"
  },
  "language_info": {
   "codemirror_mode": {
    "name": "ipython",
    "version": 3
   },
   "file_extension": ".py",
   "mimetype": "text/x-python",
   "name": "python",
   "nbconvert_exporter": "python",
   "pygments_lexer": "ipython3",
   "version": "3.8.12"
  }
 },
 "nbformat": 4,
 "nbformat_minor": 5
}
