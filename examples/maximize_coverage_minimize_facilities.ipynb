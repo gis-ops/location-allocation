{
 "cells": [
  {
   "cell_type": "code",
   "execution_count": 4,
   "id": "6c3935ef",
   "metadata": {},
   "outputs": [],
   "source": [
    "import numpy as np\n",
    "from scipy.spatial import distance_matrix\n",
    "from sklearn.datasets import make_moons\n",
    "\n",
    "from location_allocation import MaximizeCoverageMinimizeFacilities\n",
    "import utils"
   ]
  },
  {
   "cell_type": "markdown",
   "id": "d313b1d2",
   "metadata": {},
   "source": [
    "### Generate Dummy Data & Optimize"
   ]
  },
  {
   "cell_type": "code",
   "execution_count": 5,
   "id": "60ee82e3",
   "metadata": {},
   "outputs": [
    {
     "name": "stdout",
     "output_type": "stream",
     "text": [
      "Cgl0002I 14731 variables fixed\n",
      "Cgl0003I 0 fixed, 0 tightened bounds, 89 strengthened rows, 2 substitutions\n",
      "Cgl0004I processed model has 308 rows, 615 columns (615 integer (615 of which binary)) and 1365 elements\n",
      "Coin3009W Conflict graph built in 0.000 seconds, density: 0.145%\n",
      "Cgl0015I Clique Strengthening extended 0 cliques, 0 were dominated\n",
      "Cbc0045I MIPStart provided solution with cost 90\n",
      "Cbc0012I Integer solution of 90 found by Reduced search after 0 iterations and 0 nodes (0.15 seconds)\n",
      "Cbc0012I Integer solution of -2 found by DiveCoefficient after 0 iterations and 0 nodes (0.16 seconds)\n",
      "Cbc0038I Full problem 308 rows 615 columns, reduced to 1 rows 2 columns\n",
      "Cbc0012I Integer solution of -25 found by DiveCoefficient after 165 iterations and 0 nodes (0.22 seconds)\n",
      "Cbc0031I 34 added rows had average density of 14.764706\n",
      "Cbc0013I At root node, 34 cuts changed objective from -29.575092 to -25 in 6 passes\n",
      "Cbc0014I Cut generator 0 (Probing) - 165 row cuts average 2.3 elements, 0 column cuts (0 active)  in 0.004 seconds - new frequency is 1\n",
      "Cbc0014I Cut generator 1 (Gomory) - 38 row cuts average 67.5 elements, 0 column cuts (0 active)  in 0.002 seconds - new frequency is 1\n",
      "Cbc0014I Cut generator 2 (Knapsack) - 4 row cuts average 19.2 elements, 0 column cuts (0 active)  in 0.005 seconds - new frequency is 1\n",
      "Cbc0014I Cut generator 3 (Clique) - 0 row cuts average 0.0 elements, 0 column cuts (0 active)  in 0.001 seconds - new frequency is -100\n",
      "Cbc0014I Cut generator 4 (OddWheel) - 0 row cuts average 0.0 elements, 0 column cuts (0 active)  in 0.007 seconds - new frequency is -100\n",
      "Cbc0014I Cut generator 5 (MixedIntegerRounding2) - 24 row cuts average 15.8 elements, 0 column cuts (0 active)  in 0.001 seconds - new frequency is 1\n",
      "Cbc0014I Cut generator 6 (FlowCover) - 0 row cuts average 0.0 elements, 0 column cuts (0 active)  in 0.000 seconds - new frequency is -100\n",
      "Cbc0014I Cut generator 7 (TwoMirCuts) - 53 row cuts average 61.5 elements, 0 column cuts (0 active)  in 0.008 seconds - new frequency is 1\n",
      "Cbc0014I Cut generator 8 (ZeroHalf) - 1 row cuts average 7.0 elements, 0 column cuts (0 active)  in 0.000 seconds - new frequency is -100\n",
      "Cbc0001I Search completed - best objective -25, took 165 iterations and 0 nodes (0.22 seconds)\n",
      "Cbc0035I Maximum depth 0, 0 variables fixed on reduced cost\n",
      "Total time (CPU seconds):       0.23   (Wallclock seconds):       0.27\n",
      "\n",
      "Starting solution of the Linear programming relaxation problem using Primal Simplex\n",
      "\n",
      "Coin0506I Presolve 254 (-14858) rows, 496 (-14854) columns and 1118 (-44282) elements\n",
      "Clp0006I 0  Obj -162.76302 Primal inf 0.047879548 (91) Dual inf 6.9215225e+11 (153)\n",
      "Clp0029I End of values pass after 265 iterations\n",
      "Clp0014I Perturbing problem by 0.001% of 518.18238 - largest nonzero change 2.9706388e-05 ( 0.0028795785%) - largest zero change 2.8834042e-05\n",
      "Clp0000I Optimal - objective value -161.99882\n",
      "Coin0511I After Postsolve, objective -161.99882, infeasibilities - dual 0 (0), primal 0 (0)\n",
      "Clp0032I Optimal objective -161.9988196 - 357 iterations time 0.022, Presolve 0.01, Idiot 0.01\n",
      "\n",
      "Starting MIP optimization\n"
     ]
    },
    {
     "data": {
      "text/plain": [
       "<location_allocation._maximize_coverage_minimize_facilities.MaximizeCoverageMinimizeFacilities at 0x123cc0460>"
      ]
     },
     "execution_count": 5,
     "metadata": {},
     "output_type": "execute_result"
    }
   ],
   "source": [
    "points, _ = make_moons(300, noise=0.15)\n",
    "facilities = utils.generate_candidate_facilities(points, 50)\n",
    "capacities = utils.generate_facility_capacities(facilities.shape[0])\n",
    "\n",
    "dist_matrix = distance_matrix(points, facilities)\n",
    "\n",
    "mcmflp = MaximizeCoverageMinimizeFacilities(\n",
    "    points, facilities, dist_matrix, dist_cutoff=0.2, max_gap=0.1\n",
    ")\n",
    "mcmflp.optimize()"
   ]
  },
  {
   "cell_type": "markdown",
   "id": "6fbf682f",
   "metadata": {},
   "source": [
    "### Plot Result"
   ]
  },
  {
   "cell_type": "code",
   "execution_count": 6,
   "id": "6621f297",
   "metadata": {},
   "outputs": [
    {
     "data": {
      "image/png": "[encoded data removed]",
      "text/plain": [
       "<Figure size 720x360 with 1 Axes>"
      ]
     },
     "metadata": {},
     "output_type": "display_data"
    }
   ],
   "source": [
    "opt_facilities_indices = list(mcmflp.result.solution.keys())\n",
    "opt_facilities = facilities[opt_facilities_indices]\n",
    "other_facilities = np.delete(facilities, [opt_facilities_indices], axis=0)\n",
    "\n",
    "utils.plot_result(points, mcmflp.result.solution, opt_facilities, other_facilities)"
   ]
  },
  {
   "cell_type": "code",
   "execution_count": null,
   "id": "108ebc9a",
   "metadata": {},
   "outputs": [],
   "source": []
  }
 ],
 "metadata": {
  "kernelspec": {
   "display_name": "location-allocation-ss8QIqgb-py3.8",
   "language": "python",
   "name": "location-allocation-ss8qiqgb-py3.8"
  },
  "language_info": {
   "codemirror_mode": {
    "name": "ipython",
    "version": 3
   },
   "file_extension": ".py",
   "mimetype": "text/x-python",
   "name": "python",
   "nbconvert_exporter": "python",
   "pygments_lexer": "ipython3",
   "version": "3.8.12"
  }
 },
 "nbformat": 4,
 "nbformat_minor": 5
}
