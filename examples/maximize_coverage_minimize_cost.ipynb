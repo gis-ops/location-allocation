{
 "cells": [
  {
   "cell_type": "code",
   "execution_count": 1,
   "id": "6c3935ef",
   "metadata": {},
   "outputs": [],
   "source": [
    "import numpy as np\n",
    "from scipy.spatial import distance_matrix\n",
    "from sklearn.datasets import make_moons\n",
    "\n",
    "from location_allocation import MaximizeCoverageMinimizeCost\n",
    "import utils"
   ]
  },
  {
   "cell_type": "markdown",
   "id": "d313b1d2",
   "metadata": {},
   "source": [
    "### Generate Dummy Data & Optimize"
   ]
  },
  {
   "cell_type": "code",
   "execution_count": 2,
   "id": "60ee82e3",
   "metadata": {},
   "outputs": [
    {
     "name": "stdout",
     "output_type": "stream",
     "text": [
      "Welcome to the CBC MILP Solver \n",
      "Version: Trunk\n",
      "Build Date: Nov 15 2020 \n",
      "\n",
      "Starting solution of the Linear programming relaxation problem using Primal Simplex\n",
      "\n",
      "Coin0506I Presolve 393 (-14783) rows, 590 (-14762) columns and 2117 (-73483) elements\n",
      "Clp1000I sum of infeasibilities 0.000396277 - average 1.00834e-06, 343 fixed columns\n",
      "Coin0506I Presolve 153 (-240) rows, 230 (-360) columns and 690 (-1427) elements\n",
      "Clp0029I End of values pass after 230 iterations\n",
      "Clp0000I Optimal - objective value -23917\n",
      "Clp0000I Optimal - objective value -23917\n",
      "Coin0511I After Postsolve, objective -23917, infeasibilities - dual 0 (0), primal 0.000999 (1)\n",
      "Coin0512I Presolved model was optimal, full model needs cleaning up\n",
      "Clp0014I Perturbing problem by 0.001% of 124.75742 - largest nonzero change 2.9179783e-05 ( 0.0028795785%) - largest zero change 2.9638256e-05\n",
      "Clp0000I Optimal - objective value -23917\n",
      "Clp0000I Optimal - objective value -23917\n",
      "Clp0000I Optimal - objective value -23917\n",
      "Coin0511I After Postsolve, objective -23917, infeasibilities - dual 0 (0), primal 0.000999 (1)\n",
      "Coin0512I Presolved model was optimal, full model needs cleaning up\n",
      "Clp0000I Optimal - objective value -23917\n",
      "Clp0032I Optimal objective -23917 - 0 iterations time 0.042, Presolve 0.01, Idiot 0.03\n",
      "\n",
      "Starting MIP optimization\n"
     ]
    },
    {
     "data": {
      "text/plain": [
       "<location_allocation._maximize_coverage_minimize_cost.MaximizeCoverageMinimizeCost at 0x108d6abe0>"
      ]
     },
     "execution_count": 2,
     "metadata": {},
     "output_type": "execute_result"
    }
   ],
   "source": [
    "points, _ = make_moons(300, noise=0.15)\n",
    "facilities = utils.generate_candidate_facilities(points, 50)\n",
    "capacities = utils.generate_facility_capacities(facilities.shape[0])\n",
    "\n",
    "cost_matrix = distance_matrix(points, facilities)\n",
    "\n",
    "mcmclp = MaximizeCoverageMinimizeCost(\n",
    "    points,\n",
    "    facilities,\n",
    "    cost_matrix,\n",
    "    cost_cutoff=0.2,\n",
    "    facilities_to_site=3,\n",
    "    max_gap=0.1,\n",
    ")\n",
    "mcmclp.optimize()"
   ]
  },
  {
   "cell_type": "markdown",
   "id": "6fbf682f",
   "metadata": {},
   "source": [
    "### Plot Result"
   ]
  },
  {
   "cell_type": "code",
   "execution_count": 3,
   "id": "6621f297",
   "metadata": {},
   "outputs": [
    {
     "data": {
      "image/png": "[encoded data removed]",
      "text/plain": [
       "<Figure size 720x360 with 1 Axes>"
      ]
     },
     "metadata": {},
     "output_type": "display_data"
    }
   ],
   "source": [
    "opt_facilities_indices = list(mcmclp.result.solution.keys())\n",
    "opt_facilities = facilities[opt_facilities_indices]\n",
    "other_facilities = np.delete(facilities, [opt_facilities_indices], axis=0)\n",
    "\n",
    "utils.plot_result(points, mcmclp.result.solution, opt_facilities, other_facilities)"
   ]
  },
  {
   "cell_type": "code",
   "execution_count": null,
   "id": "108ebc9a",
   "metadata": {},
   "outputs": [],
   "source": []
  }
 ],
 "metadata": {
  "kernelspec": {
   "display_name": "location-allocation-ss8QIqgb-py3.8",
   "language": "python",
   "name": "location-allocation-ss8qiqgb-py3.8"
  },
  "language_info": {
   "codemirror_mode": {
    "name": "ipython",
    "version": 3
   },
   "file_extension": ".py",
   "mimetype": "text/x-python",
   "name": "python",
   "nbconvert_exporter": "python",
   "pygments_lexer": "ipython3",
   "version": "3.8.12"
  }
 },
 "nbformat": 4,
 "nbformat_minor": 5
}
